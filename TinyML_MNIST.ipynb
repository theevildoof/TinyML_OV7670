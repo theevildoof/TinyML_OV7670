{
  "cells": [
    {
      "cell_type": "markdown",
      "metadata": {
        "id": "view-in-github",
        "colab_type": "text"
      },
      "source": [
        "<a href=\"https://colab.research.google.com/github/theevildoof/TinyML_OV7670/blob/main/TinyML_MNIST.ipynb\" target=\"_parent\"><img src=\"https://colab.research.google.com/assets/colab-badge.svg\" alt=\"Open In Colab\"/></a>"
      ]
    },
    {
      "cell_type": "code",
      "execution_count": null,
      "metadata": {
        "id": "pnxVYbm0w_g6"
      },
      "outputs": [],
      "source": [
        "import numpy as np                   # advanced math library\n",
        "import matplotlib.pyplot as plt      # MATLAB like plotting routines\n",
        "import random                        # for generating random numbers\n",
        "\n",
        "from keras.datasets import mnist     # MNIST dataset is included in Keras\n",
        "from keras.models import Sequential  # Model type to be used\n",
        "\n",
        "from keras.layers.core import Dense, Dropout, Activation # Types of layers to be used in our model\n",
        "from keras.utils import np_utils                         # NumPy related tools\n",
        "import tensorflow as tf\n",
        "\n",
        "tf.config.run_functions_eagerly(True)"
      ]
    },
    {
      "cell_type": "code",
      "execution_count": null,
      "metadata": {
        "colab": {
          "base_uri": "https://localhost:8080/"
        },
        "id": "txOJL3fqzMbJ",
        "outputId": "bf0bbfe0-ea12-4f82-9509-8613714b762c"
      },
      "outputs": [
        {
          "output_type": "stream",
          "name": "stdout",
          "text": [
            "X_train shape (60000, 28, 28)\n",
            "y_train shape (60000,)\n",
            "X_test shape (10000, 28, 28)\n",
            "y_test shape (10000,)\n"
          ]
        }
      ],
      "source": [
        "# The MNIST data is split between 60,000 28 x 28 pixel training images and 10,000 28 x 28 pixel images\n",
        "(X_train, y_train), (X_test, y_test) = mnist.load_data()\n",
        "print(\"X_train shape\", X_train.shape)\n",
        "print(\"y_train shape\", y_train.shape)\n",
        "print(\"X_test shape\", X_test.shape)\n",
        "print(\"y_test shape\", y_test.shape)"
      ]
    },
    {
      "cell_type": "code",
      "execution_count": null,
      "metadata": {
        "colab": {
          "base_uri": "https://localhost:8080/",
          "height": 657
        },
        "id": "l1WEOhqIzRhT",
        "outputId": "49c56b54-62b2-4d0b-ec90-98e527613e9e"
      },
      "outputs": [
        {
          "output_type": "display_data",
          "data": {
            "text/plain": [
              "<Figure size 648x648 with 9 Axes>"
            ],
            "image/png": "[encoded data removed]"
          },
          "metadata": {
            "needs_background": "light"
          }
        }
      ],
      "source": [
        "plt.rcParams['figure.figsize'] = (9,9) # Make the figures a bit bigger\n",
        "\n",
        "for i in range(9):\n",
        "    plt.subplot(3,3,i+1)\n",
        "    num = random.randint(0, len(X_train))\n",
        "    plt.imshow(X_train[num], cmap='gray', interpolation='none')\n",
        "    plt.title(\"Class {}\".format(y_train[num]))\n",
        "    \n",
        "plt.tight_layout()"
      ]
    },
    {
      "cell_type": "code",
      "execution_count": null,
      "metadata": {
        "colab": {
          "base_uri": "https://localhost:8080/"
        },
        "id": "ZYIGxRdD0QNx",
        "outputId": "85cfbcf9-05f3-4183-8fb9-c28995f16516"
      },
      "outputs": [
        {
          "output_type": "stream",
          "name": "stdout",
          "text": [
            "0,0,0,0,0,0,0,  0,  0,  0,  0,  0,  0,  0,  0,  0,  0,  0,  0,  0,  0,  0, 0,0,0,0,0,0,\n",
            "0,0,0,0,0,0,0,  0,  0,  0,  0,  0,  0,  0,  0,  0,  0,  0,  0,  0,  0,  0, 0,0,0,0,0,0,\n",
            "0,0,0,0,0,0,0,  0,  0,  0,  0,  0,  0,  0,  0,  0,  0,  0,  0,  0,  0,  0, 0,0,0,0,0,0,\n",
            "0,0,0,0,0,0,0,  0,  0,  0,  0,  0,  0,  0,  0,  0,  0,  0,  0,  0,  0,  0, 0,0,0,0,0,0,\n",
            "0,0,0,0,0,0,0,  0,  0,  0,  0,  0,  0,  0,  0,  0,  0,  0,  0,  0,  0,  0, 0,0,0,0,0,0,\n",
            "0,0,0,0,0,0,0,  0,  0,  0,  0,  0, 63,255,253,170,253,192,109, 31,  0,  0, 0,0,0,0,0,0,\n",
            "0,0,0,0,0,0,0,  0,  0,  0,  0,  0,144,211,252,252,252,253,252,227,134,  0, 0,0,0,0,0,0,\n",
            "0,0,0,0,0,0,0,  0,  0,  0,  0, 27,221,176,247,252,252,253,252,252,252, 21, 0,0,0,0,0,0,\n",
            "0,0,0,0,0,0,0,  0,  0,  0,  0, 16,108,  1, 93,128,252,253,252,252,252,144, 1,0,0,0,0,0,\n",
            "0,0,0,0,0,0,0,  0,  0,  0, 32,211,252,253, 35,  0,  0,109,252,252,252,253,35,0,0,0,0,0,\n",
            "0,0,0,0,0,0,0,  0,  1, 73,207,252,252,253, 35,  0,  0, 78,242,252,252,253,35,0,0,0,0,0,\n",
            "0,0,0,0,0,0,0,  0,  1,252,252,252,252,217, 30,  0,  0,  0,114,252,252,175,10,0,0,0,0,0,\n",
            "0,0,0,0,0,0,0,  0, 84,252,252,252,168,  0,  0,  0,  0,  0,155,252,252,144, 0,0,0,0,0,0,\n",
            "0,0,0,0,0,0,0,  0,145,253,253,217,  0,  0,  0,  0,  0,  0,218,253,253,145, 0,0,0,0,0,0,\n",
            "0,0,0,0,0,0,0, 11,175,252,252, 91,  0,  0,  0,  0,  0, 94,247,252,252, 20, 0,0,0,0,0,0,\n",
            "0,0,0,0,0,0,0, 37,252,252,200, 20,  0,  0,  0,  0,  0,109,252,252,231,  0, 0,0,0,0,0,0,\n",
            "0,0,0,0,0,0,0,120,252,252,179,  0,  0,  0,  0,  0,  0,191,252,252,108,  0, 0,0,0,0,0,0,\n",
            "0,0,0,0,0,0,0,182,253,253,180,  0,  0,  0,  0, 16,191,255,253,237, 62,  0, 0,0,0,0,0,0,\n",
            "0,0,0,0,0,0,0,181,252,252,179,  0,  0,  0,  0, 78,252,253,252, 91,  0,  0, 0,0,0,0,0,0,\n",
            "0,0,0,0,0,0,0,181,252,252,179,  0,  0,  0, 73,232,252,253,241, 61,  0,  0, 0,0,0,0,0,0,\n",
            "0,0,0,0,0,0,0, 98,252,252,179,  0,  0, 63,237,252,252,253, 97,  0,  0,  0, 0,0,0,0,0,0,\n",
            "0,0,0,0,0,0,0, 99,253,253,253,149,191,255,253,253,253,145,  0,  0,  0,  0, 0,0,0,0,0,0,\n",
            "0,0,0,0,0,0,0, 46,221,252,252,252,252,253,252,241,179, 20,  0,  0,  0,  0, 0,0,0,0,0,0,\n",
            "0,0,0,0,0,0,0,  0, 41,252,252,252,252,253,220,102,  0,  0,  0,  0,  0,  0, 0,0,0,0,0,0,\n",
            "0,0,0,0,0,0,0,  0,  1,108,232,252,252,191, 15,  0,  0,  0,  0,  0,  0,  0, 0,0,0,0,0,0,\n",
            "0,0,0,0,0,0,0,  0,  0,  0,  0,  0,  0,  0,  0,  0,  0,  0,  0,  0,  0,  0, 0,0,0,0,0,0,\n",
            "0,0,0,0,0,0,0,  0,  0,  0,  0,  0,  0,  0,  0,  0,  0,  0,  0,  0,  0,  0, 0,0,0,0,0,0,\n",
            "0,0,0,0,0,0,0,  0,  0,  0,  0,  0,  0,  0,  0,  0,  0,  0,  0,  0,  0,  0, 0,0,0,0,0,0,\n"
          ]
        }
      ],
      "source": [
        "# just a little function for pretty printing a matrix\n",
        "def matprint(mat, fmt=\"g\"):\n",
        "    col_maxes = [max([len((\"{:\"+fmt+\"}\").format(x)) for x in col]) for col in mat.T]\n",
        "    for x in mat:\n",
        "        for i, y in enumerate(x):\n",
        "            print((\"{:\"+str(col_maxes[i])+fmt+\"}\").format(y), end=\",\")\n",
        "        print(\"\")\n",
        "\n",
        "# now print!        \n",
        "matprint(X_train[num])\n"
      ]
    },
    {
      "cell_type": "code",
      "execution_count": null,
      "metadata": {
        "id": "l9_DEyxr0UOX"
      },
      "outputs": [],
      "source": [
        "from keras.preprocessing.image import ImageDataGenerator\n",
        "from keras.layers import Conv2D, MaxPooling2D, ZeroPadding2D, GlobalAveragePooling2D, Flatten\n",
        "from keras.layers import BatchNormalization"
      ]
    },
    {
      "cell_type": "code",
      "execution_count": null,
      "metadata": {
        "colab": {
          "base_uri": "https://localhost:8080/"
        },
        "id": "DRrDWMUQ9c6b",
        "outputId": "6704663c-9a96-4877-f430-1f869b8a218b"
      },
      "outputs": [
        {
          "name": "stdout",
          "output_type": "stream",
          "text": [
            "Training matrix shape (60000, 28, 28, 1)\n",
            "Testing matrix shape (10000, 28, 28, 1)\n"
          ]
        }
      ],
      "source": [
        "# Again, do some formatting\n",
        "# Except we do not flatten each image into a 784-length vector because we want to perform convolutions first\n",
        "\n",
        "X_train = X_train.reshape(60000, 28, 28, 1) #add an additional dimension to represent the single-channel\n",
        "X_test = X_test.reshape(10000, 28, 28, 1)\n",
        "\n",
        "X_train = X_train.astype('float32')         # change integers to 32-bit floating point numbers\n",
        "X_test = X_test.astype('float32')\n",
        "\n",
        "#X_train /= 255                              # normalize each value for each pixel for the entire vector for each input\n",
        "#X_test /= 255\n",
        "\n",
        "print(\"Training matrix shape\", X_train.shape)\n",
        "print(\"Testing matrix shape\", X_test.shape)"
      ]
    },
    {
      "cell_type": "code",
      "execution_count": null,
      "metadata": {
        "id": "WUb3xpcT9mN1"
      },
      "outputs": [],
      "source": [
        "# one-hot format classes\n",
        "\n",
        "nb_classes = 10 # number of unique digits\n",
        "\n",
        "Y_train = np_utils.to_categorical(y_train, nb_classes)\n",
        "Y_test = np_utils.to_categorical(y_test, nb_classes)"
      ]
    },
    {
      "cell_type": "code",
      "execution_count": null,
      "metadata": {
        "id": "Xgb-Rs9N9mzx"
      },
      "outputs": [],
      "source": [
        "from keras.layers.convolutional import DepthwiseConv2D\n",
        "from keras.backend import relu\n",
        "from keras.activations import softmax\n",
        "model = Sequential()                                 # Linear stacking of layers\n",
        "\n",
        "model.add(DepthwiseConv2D((3,3),input_shape=(28,28,1)))\n",
        "# Convolution Layer 1\n",
        "model.add(Conv2D(2, (3, 3)))      # 2 different 3x3 kernels -- so 2 feature maps\n",
        "model.add(BatchNormalization(axis=-1))               # normalize each feature map before activation\n",
        "convLayer01 = Activation('relu')                     # activation\n",
        "model.add(convLayer01)\n",
        "\n",
        "# Convolution Layer 2\n",
        "model.add(Conv2D(2, (3, 3)))                        # 2 different 3x3 kernels -- so 2 feature maps\n",
        "model.add(BatchNormalization(axis=-1))               # normalize each feature map before activation\n",
        "model.add(Activation('relu'))                        # activation\n",
        "convLayer02 = MaxPooling2D(pool_size=(2,2))          # Pool the max values over a 2x2 kernel\n",
        "model.add(convLayer02)\n",
        "\n",
        "# Convolution Layer 3\n",
        "model.add(Conv2D(4,(3, 3)))                         # 4 different 3x3 kernels -- so 4 feature maps\n",
        "model.add(BatchNormalization(axis=-1))               # normalize each feature map before activation\n",
        "convLayer03 = Activation('relu')                     # activation\n",
        "model.add(convLayer03)\n",
        "\n",
        "# Convolution Layer 4\n",
        "model.add(Conv2D(4, (3, 3)))                        # 4 different 3x3 kernels -- so 64 feature maps\n",
        "model.add(BatchNormalization(axis=-1))               # normalize each feature map before activation\n",
        "model.add(Activation('relu'))                        # activation\n",
        "convLayer04 = MaxPooling2D(pool_size=(2,2))          # Pool the max values over a 2x2 kernel\n",
        "model.add(convLayer04)\n",
        "\n",
        "model.add(Flatten())                                 \n",
        "model.add(Dense(5,activation = relu))                           \n",
        "model.add(Dense(10, activation = softmax))                        "
      ]
    },
    {
      "cell_type": "code",
      "execution_count": null,
      "metadata": {
        "colab": {
          "base_uri": "https://localhost:8080/"
        },
        "id": "ub3qkgLZ9q2s",
        "outputId": "869bd21f-7ee9-4848-84d7-b3a6d7460cb1"
      },
      "outputs": [
        {
          "name": "stdout",
          "output_type": "stream",
          "text": [
            "Model: \"sequential_6\"\n",
            "_________________________________________________________________\n",
            " Layer (type)                Output Shape              Param #   \n",
            "=================================================================\n",
            " depthwise_conv2d_4 (Depthwi  (None, 26, 26, 1)        10        \n",
            " seConv2D)                                                       \n",
            "                                                                 \n",
            " conv2d_19 (Conv2D)          (None, 24, 24, 2)         20        \n",
            "                                                                 \n",
            " batch_normalization_19 (Bat  (None, 24, 24, 2)        8         \n",
            " chNormalization)                                                \n",
            "                                                                 \n",
            " activation_19 (Activation)  (None, 24, 24, 2)         0         \n",
            "                                                                 \n",
            " conv2d_20 (Conv2D)          (None, 22, 22, 2)         38        \n",
            "                                                                 \n",
            " batch_normalization_20 (Bat  (None, 22, 22, 2)        8         \n",
            " chNormalization)                                                \n",
            "                                                                 \n",
            " activation_20 (Activation)  (None, 22, 22, 2)         0         \n",
            "                                                                 \n",
            " max_pooling2d_9 (MaxPooling  (None, 11, 11, 2)        0         \n",
            " 2D)                                                             \n",
            "                                                                 \n",
            " conv2d_21 (Conv2D)          (None, 9, 9, 4)           76        \n",
            "                                                                 \n",
            " batch_normalization_21 (Bat  (None, 9, 9, 4)          16        \n",
            " chNormalization)                                                \n",
            "                                                                 \n",
            " activation_21 (Activation)  (None, 9, 9, 4)           0         \n",
            "                                                                 \n",
            " conv2d_22 (Conv2D)          (None, 7, 7, 4)           148       \n",
            "                                                                 \n",
            " batch_normalization_22 (Bat  (None, 7, 7, 4)          16        \n",
            " chNormalization)                                                \n",
            "                                                                 \n",
            " activation_22 (Activation)  (None, 7, 7, 4)           0         \n",
            "                                                                 \n",
            " max_pooling2d_10 (MaxPoolin  (None, 3, 3, 4)          0         \n",
            " g2D)                                                            \n",
            "                                                                 \n",
            " flatten_4 (Flatten)         (None, 36)                0         \n",
            "                                                                 \n",
            " dense_8 (Dense)             (None, 5)                 185       \n",
            "                                                                 \n",
            " dense_9 (Dense)             (None, 10)                60        \n",
            "                                                                 \n",
            "=================================================================\n",
            "Total params: 585\n",
            "Trainable params: 561\n",
            "Non-trainable params: 24\n",
            "_________________________________________________________________\n"
          ]
        }
      ],
      "source": [
        "model.summary()"
      ]
    },
    {
      "cell_type": "code",
      "execution_count": null,
      "metadata": {
        "id": "WdputkfM9stl"
      },
      "outputs": [],
      "source": [
        "\n",
        "model.compile(loss='categorical_crossentropy', optimizer='adam', metrics=['accuracy'])"
      ]
    },
    {
      "cell_type": "code",
      "execution_count": null,
      "metadata": {
        "colab": {
          "base_uri": "https://localhost:8080/"
        },
        "id": "9sbUcnNm91s-",
        "outputId": "40b42b40-2694-4ceb-f587-f34c4fddcfa5"
      },
      "outputs": [
        {
          "name": "stdout",
          "output_type": "stream",
          "text": [
            "Epoch 1/3\n"
          ]
        },
        {
          "name": "stderr",
          "output_type": "stream",
          "text": [
            "/usr/local/lib/python3.7/dist-packages/tensorflow/python/data/ops/structured_function.py:265: UserWarning: Even though the `tf.config.experimental_run_functions_eagerly` option is set, this option does not apply to tf.data functions. To force eager execution of tf.data functions, please use `tf.data.experimental.enable_debug_mode()`.\n",
            "  \"Even though the `tf.config.experimental_run_functions_eagerly` \"\n"
          ]
        },
        {
          "name": "stdout",
          "output_type": "stream",
          "text": [
            "468/468 [==============================] - 76s 161ms/step - loss: 1.4928 - accuracy: 0.4843 - val_loss: 0.8643 - val_accuracy: 0.7379\n",
            "Epoch 2/3\n",
            "468/468 [==============================] - 77s 165ms/step - loss: 0.6703 - accuracy: 0.7933 - val_loss: 0.5185 - val_accuracy: 0.8402\n",
            "Epoch 3/3\n",
            "461/468 [============================>.] - ETA: 0s - loss: 0.4774 - accuracy: 0.8524WARNING:tensorflow:Your input ran out of data; interrupting training. Make sure that your dataset or generator can generate at least `steps_per_epoch * epochs` batches (in this case, 1404 batches). You may need to use the repeat() function when building your dataset.\n"
          ]
        },
        {
          "name": "stderr",
          "output_type": "stream",
          "text": [
            "WARNING:tensorflow:Your input ran out of data; interrupting training. Make sure that your dataset or generator can generate at least `steps_per_epoch * epochs` batches (in this case, 1404 batches). You may need to use the repeat() function when building your dataset.\n"
          ]
        },
        {
          "name": "stdout",
          "output_type": "stream",
          "text": [
            "\b\b\b\b\b\b\b\b\b\b\b\b\b\b\b\b\b\b\b\b\b\b\b\b\b\b\b\b\b\b\b\b\b\b\b\b\b\b\b\b\b\b\b\b\b\b\b\b\b\b\b\b\b\b\b\b\b\b\b\b\b\b\b\b\b\b\b\b\b\b\b\b\b\b\b\b\b\b\b\b\b\b\b\b\r468/468 [==============================] - 75s 161ms/step - loss: 0.4775 - accuracy: 0.8524 - val_loss: 0.3994 - val_accuracy: 0.8731\n"
          ]
        }
      ],
      "source": [
        "history = model.fit(X_train,Y_train, steps_per_epoch=60000//128, epochs=3, verbose=1, \n",
        "                    validation_data=(X_test,Y_test))"
      ]
    },
    {
      "cell_type": "code",
      "execution_count": null,
      "metadata": {
        "colab": {
          "base_uri": "https://localhost:8080/"
        },
        "id": "hu5yK7mS9uXv",
        "outputId": "5062ea7e-2510-441d-921d-a13975c741b2"
      },
      "outputs": [
        {
          "name": "stdout",
          "output_type": "stream",
          "text": [
            "  5/313 [..............................] - ETA: 8s - loss: 0.3009 - accuracy: 0.9250"
          ]
        },
        {
          "name": "stderr",
          "output_type": "stream",
          "text": [
            "/usr/local/lib/python3.7/dist-packages/tensorflow/python/data/ops/structured_function.py:265: UserWarning: Even though the `tf.config.experimental_run_functions_eagerly` option is set, this option does not apply to tf.data functions. To force eager execution of tf.data functions, please use `tf.data.experimental.enable_debug_mode()`.\n",
            "  \"Even though the `tf.config.experimental_run_functions_eagerly` \"\n"
          ]
        },
        {
          "name": "stdout",
          "output_type": "stream",
          "text": [
            "313/313 [==============================] - 8s 27ms/step - loss: 0.3994 - accuracy: 0.8731\n",
            "Test score: 0.3994104266166687\n",
            "Test accuracy: 0.8730999827384949\n"
          ]
        }
      ],
      "source": [
        "score = model.evaluate(X_test, Y_test)\n",
        "print('Test score:', score[0])\n",
        "print('Test accuracy:', score[1])"
      ]
    },
    {
      "cell_type": "code",
      "execution_count": null,
      "metadata": {
        "colab": {
          "base_uri": "https://localhost:8080/"
        },
        "id": "AFwK1PR0B47L",
        "outputId": "fef9258a-b972-49f3-89fc-a91a6bf70828"
      },
      "outputs": [
        {
          "name": "stdout",
          "output_type": "stream",
          "text": [
            "INFO:tensorflow:Assets written to: /tmp/tmp3ygawltn/assets\n"
          ]
        },
        {
          "name": "stderr",
          "output_type": "stream",
          "text": [
            "INFO:tensorflow:Assets written to: /tmp/tmp3ygawltn/assets\n",
            "WARNING:absl:Buffer deduplication procedure will be skipped when flatbuffer library is not properly loaded\n"
          ]
        },
        {
          "name": "stdout",
          "output_type": "stream",
          "text": [
            "Model is 7624 bytes\n"
          ]
        }
      ],
      "source": [
        "!apt-get -qq install xxd\n",
        "converter = tf.lite.TFLiteConverter.from_keras_model(model)\n",
        "tflite_model = converter.convert()\n",
        "\n",
        "# Save the model to disk\n",
        "open(\"gesture_model.tflite\", \"wb\").write(tflite_model)\n",
        "  \n",
        "import os\n",
        "basic_model_size = os.path.getsize(\"gesture_model.tflite\")\n",
        "print(\"Model is %d bytes\" % basic_model_size)"
      ]
    },
    {
      "cell_type": "code",
      "execution_count": null,
      "metadata": {
        "colab": {
          "base_uri": "https://localhost:8080/"
        },
        "id": "cn0tUoQVB5Tw",
        "outputId": "ae1798ff-d098-4280-a9a2-0b25dadba975"
      },
      "outputs": [
        {
          "name": "stdout",
          "output_type": "stream",
          "text": [
            "Header file, model.h, is 47,050 bytes.\n",
            "\n",
            "Open the side panel (refresh if needed). Double click model.h to download the file.\n"
          ]
        }
      ],
      "source": [
        "!echo \"const unsigned char model[] = {\" > /content/model.h\n",
        "!cat gesture_model.tflite | xxd -i      >> /content/model.h\n",
        "!echo \"};\"                              >> /content/model.h\n",
        "\n",
        "import os\n",
        "model_h_size = os.path.getsize(\"model.h\")\n",
        "print(f\"Header file, model.h, is {model_h_size:,} bytes.\")\n",
        "print(\"\\nOpen the side panel (refresh if needed). Double click model.h to download the file.\")"
      ]
    }
  ],
  "metadata": {
    "colab": {
      "name": "TinyML_MNIST",
      "provenance": [],
      "include_colab_link": true
    },
    "kernelspec": {
      "display_name": "Python 3",
      "name": "python3"
    },
    "language_info": {
      "name": "python"
    }
  },
  "nbformat": 4,
  "nbformat_minor": 0
}